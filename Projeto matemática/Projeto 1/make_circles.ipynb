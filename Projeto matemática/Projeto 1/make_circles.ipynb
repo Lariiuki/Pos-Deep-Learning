{
 "cells": [
  {
   "cell_type": "code",
   "execution_count": 16,
   "id": "3139c45c",
   "metadata": {},
   "outputs": [],
   "source": [
    "# %pip install numpy scikit-learn matplotlib keras tensorflow"
   ]
  },
  {
   "cell_type": "code",
   "execution_count": 17,
   "id": "69f9f600",
   "metadata": {},
   "outputs": [],
   "source": [
    "from sklearn import datasets\n",
    "import numpy as np\n",
    "import matplotlib.pyplot as plt\n",
    "from keras.models import Sequential\n",
    "from keras.layers import Dense\n",
    "from keras.optimizers import SGD\n",
    "from keras import Input"
   ]
  },
  {
   "cell_type": "markdown",
   "id": "712eaf8f",
   "metadata": {},
   "source": [
    "## Dataset\n",
    "Geramos uma base de dados artificial chamada circles, composta por 100 pontos em dois círculos concêntricos. Cada ponto foi rotulado em duas classes (azul e vermelho). Esse tipo de base é interessante porque não pode ser separado por um classificador linear simples, exigindo o uso de uma rede neural com camadas escondidas para aprender a fronteira de decisão."
   ]
  },
  {
   "cell_type": "code",
   "execution_count": 18,
   "id": "2fc2f1b6",
   "metadata": {},
   "outputs": [
    {
     "data": {
      "image/png": "[encoded data removed]",
      "text/plain": [
       "<Figure size 640x480 with 1 Axes>"
      ]
     },
     "metadata": {},
     "output_type": "display_data"
    }
   ],
   "source": [
    "X, Y = datasets.make_circles(100, noise=0.1)\n",
    "\n",
    "color = ['blue' if k == 0 else 'red' for k in Y]\n",
    "\n",
    "plt.scatter(X[:, 0], X[:, 1], c=color)\n",
    "plt.savefig('circulos.svg')"
   ]
  },
  {
   "cell_type": "markdown",
   "id": "6336170a",
   "metadata": {},
   "source": [
    "## Função de ativação\n",
    "Essas funções servem para que a rede consiga aprender relações não lineares.\n",
    "\n",
    "Sem elas, a rede seria apenas uma combinação linear de entradas (como uma regressão linear), incapaz de resolver problemas como o dataset dos círculos.\n",
    "\n",
    "A sigmoid é comum em camadas de saída binárias, e a tanh é usada em camadas escondidas porque é simétrica em torno de zero (facilita o aprendizado)."
   ]
  },
  {
   "cell_type": "code",
   "execution_count": 19,
   "id": "b081aeb2",
   "metadata": {},
   "outputs": [],
   "source": [
    "def sigmoid(x):\n",
    "    return 1 / (1 + np.exp(-x))"
   ]
  },
  {
   "cell_type": "markdown",
   "id": "583e6f42",
   "metadata": {},
   "source": [
    "## Rede Manual"
   ]
  },
  {
   "cell_type": "code",
   "execution_count": 20,
   "id": "5164d31f",
   "metadata": {},
   "outputs": [],
   "source": [
    "def run_neural_net(x, w0, b0, b1, w1):\n",
    "    s00 = w0[0, 0] * x[0]\n",
    "    s01 = w0[0, 1] * x[1]\n",
    "    s02 = s00 + s01\n",
    "    v0 = s02 + b0[0]\n",
    "    y0 = sigmoid(v0)\n",
    "\n",
    "    s10 = w0[1, 0] * x[0]\n",
    "    s11 = w0[1, 1] * x[1]\n",
    "    s12 = s10 + s11\n",
    "    v1 = s12 + b0[1]\n",
    "    y1 = sigmoid(v1)\n",
    "\n",
    "    s20 = y0 * w1[0]\n",
    "    s21 = y1 * w1[1]\n",
    "    s22 = s20 + s21\n",
    "    v2 = s22 + b1[0]\n",
    "    y2 = sigmoid(v2)\n",
    "    return 1 if y2 > 0.5 else 0"
   ]
  },
  {
   "cell_type": "code",
   "execution_count": 21,
   "id": "03534cc9",
   "metadata": {},
   "outputs": [],
   "source": [
    "def neural_net(x, d, w0, b0, b1, w1):\n",
    "    # forward\n",
    "\n",
    "    s00 = w0[0, 0] * x[0]\n",
    "    s01 = w0[0, 1] * x[1]\n",
    "    s02 = s00 + s01\n",
    "    v0 = s02 + b0[0]\n",
    "    y0 = sigmoid(v0)\n",
    "\n",
    "    s10 = w0[1, 0] * x[0]\n",
    "    s11 = w0[1, 1] * x[1]\n",
    "    s12 = s10 + s11\n",
    "    v1 = s12 + b0[1]\n",
    "    y1 = sigmoid(v1)\n",
    "\n",
    "    s20 = y0 * w1[0]\n",
    "    s21 = y1 * w1[1]\n",
    "    s22 = s20 + s21\n",
    "    v2 = s22 + b1[0]\n",
    "    y2 = sigmoid(v2)\n",
    "    #e = y2 - d\n",
    "    #L = 1/2 * (e ** 2)\n",
    "\n",
    "    L = -((d*np.log(y2)) + ((1-d)*np.log(1-y2)))\n",
    "\n",
    "\n",
    "    # backward\n",
    "    grad_w0 = np.zeros(w0.shape)\n",
    "    grad_w1 = np.zeros(w1.shape)\n",
    "    grad_b0 = np.zeros(b0.shape)\n",
    "    grad_b1 = np.zeros(b1.shape)\n",
    "\n",
    "    # grad_L = 1\n",
    "    # grad_e = grad_L * e\n",
    "    # grad_y2 = grad_e\n",
    "\n",
    "    grad_y2 = (y2-d)/(y2*(1-y2))\n",
    "    grad_v2 = grad_y2 * y2 * (1 - y2)\n",
    "    grad_b1[0] = grad_v2\n",
    "    grad_s22 = grad_v2\n",
    "    grad_s21 = grad_s22\n",
    "    grad_s20 = grad_s22\n",
    "    grad_w1[1] = grad_s21 * y1\n",
    "    grad_y1 = grad_s21 * w1[1]\n",
    "\n",
    "    grad_w1[0] = grad_s20 * y0\n",
    "    grad_y0 = grad_v2 * w1[0]\n",
    "\n",
    "    grad_v0 = grad_y0 * y0 * (1 - y0)\n",
    "    grad_v1 = grad_y1 * y1 * (1 - y1)\n",
    "\n",
    "    grad_b0[0] = grad_v0\n",
    "    grad_b0[1] = grad_v1\n",
    "    grad_s12 = grad_v1\n",
    "    grad_s02 = grad_v0\n",
    "\n",
    "    grad_s00 = grad_s02\n",
    "    grad_s01 = grad_s02\n",
    "    grad_s10 = grad_s12\n",
    "    grad_s11 = grad_s12\n",
    "    grad_w0[0, 0] = grad_s00 * x[0]\n",
    "    grad_w0[0, 1] = grad_s01 * x[1]\n",
    "    grad_w0[1, 0] = grad_s10 * x[0]\n",
    "    grad_w0[1, 1] = grad_s11 * x[1]\n",
    "    return grad_w0, grad_b0, grad_w1, grad_b1, L"
   ]
  },
  {
   "cell_type": "code",
   "execution_count": 22,
   "id": "063767a0",
   "metadata": {},
   "outputs": [
    {
     "name": "stdout",
     "output_type": "stream",
     "text": [
      "50 acurácia antes do treinamento\n",
      "0 75.13328429494963\n",
      "1000 64.83921157748823\n",
      "2000 53.60623464539564\n",
      "3000 53.083543167625734\n",
      "4000 52.74435526695466\n",
      "5000 52.486412578794564\n",
      "6000 52.27849502386686\n",
      "7000 52.105170995407036\n",
      "8000 51.95741038529325\n",
      "9000 51.829420000832286\n",
      "acc 72\n",
      "\u001b[1m4/4\u001b[0m \u001b[32m━━━━━━━━━━━━━━━━━━━━\u001b[0m\u001b[37m\u001b[0m \u001b[1m0s\u001b[0m 3ms/step - accuracy: 0.7995 - loss: 0.1365 \n"
     ]
    }
   ],
   "source": [
    "def main():\n",
    "    # inicialização aleatória\n",
    "    w0 = np.random.rand(2, 2)\n",
    "    w1 = np.random.rand(2)\n",
    "    b0 = np.random.rand(2)\n",
    "    b1 = np.random.rand(1)\n",
    "\n",
    "    # taxa de aprendizado\n",
    "    taxa = 0.1\n",
    "\n",
    "    acc = 0\n",
    "    for i in range(100):\n",
    "        out = run_neural_net(X[i],  w0, b0, b1, w1)\n",
    "        if out == Y[i]:\n",
    "            acc += 1\n",
    "    print(acc, \"acurácia antes do treinamento\")\n",
    "\n",
    "    # gradiente descendente\n",
    "    for i in range(10000):\n",
    "        loss = 0\n",
    "\n",
    "        grad_w0 = np.zeros(w0.shape)\n",
    "        grad_w1 = np.zeros(w1.shape)\n",
    "        grad_b0 = np.zeros(b0.shape)\n",
    "        grad_b1 = np.zeros(b1.shape)\n",
    "\n",
    "        for k in range(100):\n",
    "            g_w0, g_b0, g_w1, g_b1, L = neural_net(X[k], Y[k], w0, b0, b1, w1)\n",
    "\n",
    "            grad_w0 += g_w0\n",
    "            grad_w1 += g_w1\n",
    "            grad_b0 += g_b0\n",
    "            grad_b1 += g_b1\n",
    "            loss += L\n",
    "\n",
    "        w0 -= taxa * grad_w0\n",
    "        w1 -= taxa * grad_w1\n",
    "        b0 -= taxa * grad_b0\n",
    "        b1 -= taxa * grad_b1\n",
    "\n",
    "        if i % 1000 == 0:\n",
    "            print(i, loss)\n",
    "\n",
    "    # acurácia após o treinamento\n",
    "    acc = 0\n",
    "    for i in range(100):\n",
    "        out = run_neural_net(X[i],  w0, b0, b1, w1)\n",
    "        if out == Y[i]:\n",
    "            acc += 1\n",
    "    print('acc', acc)\n",
    "\n",
    "    model = Sequential()\n",
    "    model.add(Dense(5, input_dim=2, activation='relu'))\n",
    "    model.add(Dense(5, activation='tanh'))\n",
    "    model.add(Dense(1, activation='sigmoid'))\n",
    "\n",
    "    opt = SGD(learning_rate=taxa)\n",
    "    model.compile(loss='mean_squared_error', optimizer=opt, metrics=['accuracy'])\n",
    "    #    model.compile(loss='binary_crossentropy', optimizer=opt, metrics=['accuracy'])\n",
    "    model.fit(X, Y, epochs=100, verbose=False, batch_size=5)\n",
    "\n",
    "    acc = model.evaluate(X, Y)\n",
    "\n",
    "\n",
    "main()"
   ]
  }
 ],
 "metadata": {
  "kernelspec": {
   "display_name": "Python 3",
   "language": "python",
   "name": "python3"
  },
  "language_info": {
   "codemirror_mode": {
    "name": "ipython",
    "version": 3
   },
   "file_extension": ".py",
   "mimetype": "text/x-python",
   "name": "python",
   "nbconvert_exporter": "python",
   "pygments_lexer": "ipython3",
   "version": "3.9.6"
  }
 },
 "nbformat": 4,
 "nbformat_minor": 5
}
