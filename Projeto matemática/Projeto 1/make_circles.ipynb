{
 "cells": [
  {
   "cell_type": "code",
   "execution_count": 16,
   "id": "3139c45c",
   "metadata": {},
   "outputs": [],
   "source": [
    "# %pip install numpy scikit-learn matplotlib keras tensorflow"
   ]
  },
  {
   "cell_type": "code",
   "execution_count": 17,
   "id": "69f9f600",
   "metadata": {},
   "outputs": [],
   "source": [
    "from sklearn import datasets\n",
    "import numpy as np\n",
    "import matplotlib.pyplot as plt\n",
    "from keras.models import Sequential\n",
    "from keras.layers import Dense\n",
    "from keras.optimizers import SGD\n",
    "from keras import Input"
   ]
  },
  {
   "cell_type": "markdown",
   "id": "712eaf8f",
   "metadata": {},
   "source": [
    "## Dataset\n",
    "Gerar o conjunto de dados make circles"
   ]
  },
  {
   "cell_type": "code",
   "execution_count": 18,
   "id": "2fc2f1b6",
   "metadata": {},
   "outputs": [
    {
     "data": {
      "image/png": "[encoded data removed]",
      "text/plain": [
       "<Figure size 640x480 with 1 Axes>"
      ]
     },
     "metadata": {},
     "output_type": "display_data"
    }
   ],
   "source": [
    "X, Y = datasets.make_circles(100, noise=0.1, factor=0.5)\n",
    "\n",
    "color = ['blue' if k == 0 else 'red' for k in Y]\n",
    "plt.scatter(X[:, 0], X[:, 1], c=color)\n",
    "plt.savefig('circulos.svg')"
   ]
  },
  {
   "cell_type": "markdown",
   "id": "6336170a",
   "metadata": {},
   "source": [
    "## Função de ativação\n",
    "Essas funções servem para que a rede consiga aprender relações não lineares.\n",
    "\n",
    "Sem elas, a rede seria apenas uma combinação linear de entradas (como uma regressão linear), incapaz de resolver problemas como o dataset dos círculos.\n",
    "\n",
    "A sigmoid é comum em camadas de saída binárias, e a tanh é usada em camadas escondidas porque é simétrica em torno de zero (facilita o aprendizado)."
   ]
  },
  {
   "cell_type": "code",
   "execution_count": 19,
   "id": "b081aeb2",
   "metadata": {},
   "outputs": [],
   "source": [
    "def sigmoid(x):\n",
    "    return 1 / (1 + np.exp(-x))\n",
    "\n",
    "def tanh(x):\n",
    "    return np.tanh(x)"
   ]
  },
  {
   "cell_type": "markdown",
   "id": "583e6f42",
   "metadata": {},
   "source": [
    "## Rede Manual\n",
    "\n",
    "Rede manual com 4 neurõnios escondidos"
   ]
  },
  {
   "cell_type": "code",
   "execution_count": 20,
   "id": "5164d31f",
   "metadata": {},
   "outputs": [],
   "source": [
    "def run_neural_net(x, w0, b0, b1, w1):\n",
    "    # camada escondida com 4 neurônios (tanh)\n",
    "    v0 = np.dot(x, w0.T) + b0\n",
    "    y0 = tanh(v0)\n",
    "\n",
    "    # camada de saída (sigmoide)\n",
    "    v1 = np.dot(y0, w1) + b1\n",
    "    y1 = sigmoid(v1)\n",
    "\n",
    "    return 1 if y1 > 0.5 else 0\n"
   ]
  },
  {
   "cell_type": "code",
   "execution_count": 21,
   "id": "03534cc9",
   "metadata": {},
   "outputs": [],
   "source": [
    "def neural_net(x, d, w0, b0, b1, w1):\n",
    "    # forward\n",
    "    v0 = np.dot(x, w0.T) + b0\n",
    "    y0 = tanh(v0)\n",
    "\n",
    "    v1 = np.dot(y0, w1) + b1\n",
    "    y1 = sigmoid(v1)\n",
    "\n",
    "    e = y1 - d\n",
    "    L = 1/2 * (e ** 2)\n",
    "\n",
    "    # backward\n",
    "    grad_w0 = np.zeros(w0.shape)\n",
    "    grad_w1 = np.zeros(w1.shape)\n",
    "    grad_b0 = np.zeros(b0.shape)\n",
    "    grad_b1 = np.zeros(b1.shape)\n",
    "\n",
    "    # derivadas\n",
    "    grad_y1 = e\n",
    "    grad_v1 = grad_y1 * y1 * (1 - y1)\n",
    "\n",
    "    grad_w1 = grad_v1 * y0\n",
    "    grad_b1 = grad_v1\n",
    "\n",
    "    grad_y0 = grad_v1 * w1\n",
    "    grad_v0 = grad_y0 * (1 - np.tanh(v0) ** 2)  # derivada tanh\n",
    "\n",
    "    grad_w0 = np.outer(grad_v0, x)\n",
    "    grad_b0 = grad_v0\n",
    "\n",
    "    return grad_w0, grad_b0, grad_w1, grad_b1, L"
   ]
  },
  {
   "cell_type": "markdown",
   "id": "998e6c15",
   "metadata": {},
   "source": [
    "Código principal"
   ]
  },
  {
   "cell_type": "code",
   "execution_count": null,
   "id": "063767a0",
   "metadata": {},
   "outputs": [
    {
     "name": "stdout",
     "output_type": "stream",
     "text": [
      "63 acurácia antes do treinamento\n",
      "0 [14.72242375]\n",
      "1000 [0.38926217]\n",
      "2000 [0.22279658]\n",
      "3000 [0.1548494]\n",
      "4000 [0.11814957]\n",
      "acc após treinamento: 100\n",
      "\u001b[1m4/4\u001b[0m \u001b[32m━━━━━━━━━━━━━━━━━━━━\u001b[0m\u001b[37m\u001b[0m \u001b[1m0s\u001b[0m 3ms/step - accuracy: 1.0000 - loss: 0.0091 \n",
      "Acurácia final (Keras): [0.007889721542596817, 1.0]\n"
     ]
    }
   ],
   "source": [
    "def main():\n",
    "    # inicialização aleatória\n",
    "    np.random.seed(42)\n",
    "    w0 = np.random.rand(4, 2)  # 4 neurônios escondidos\n",
    "    w1 = np.random.rand(4)     # pesos da camada de saída\n",
    "    b0 = np.random.rand(4)     # bias da camada escondida\n",
    "    b1 = np.random.rand(1)     # bias da saída\n",
    "\n",
    "    # taxa de aprendizado\n",
    "    taxa = 0.05\n",
    "\n",
    "    # acurácia antes do treinamento\n",
    "    acc = 0\n",
    "    for i in range(100):\n",
    "        out = run_neural_net(X[i], w0, b0, b1, w1)\n",
    "        if out == Y[i]:\n",
    "            acc += 1\n",
    "    print(acc, \"acurácia antes do treinamento\")\n",
    "\n",
    "    # treinamento (gradiente descendente)\n",
    "    for i in range(5000):\n",
    "        loss = 0\n",
    "        grad_w0 = np.zeros(w0.shape)\n",
    "        grad_w1 = np.zeros(w1.shape)\n",
    "        grad_b0 = np.zeros(b0.shape)\n",
    "        grad_b1 = np.zeros(b1.shape)\n",
    "\n",
    "        for k in range(100):\n",
    "            g_w0, g_b0, g_w1, g_b1, L = neural_net(X[k], Y[k], w0, b0, b1, w1)\n",
    "            grad_w0 += g_w0\n",
    "            grad_w1 += g_w1\n",
    "            grad_b0 += g_b0\n",
    "            grad_b1 += g_b1\n",
    "            loss += L\n",
    "\n",
    "        w0 -= taxa * grad_w0\n",
    "        w1 -= taxa * grad_w1\n",
    "        b0 -= taxa * grad_b0\n",
    "        b1 -= taxa * grad_b1\n",
    "\n",
    "        if i % 1000 == 0:\n",
    "            print(i, loss)\n",
    "\n",
    "    # acurácia após o treinamento\n",
    "    acc = 0\n",
    "    for i in range(100):\n",
    "        out = run_neural_net(X[i], w0, b0, b1, w1)\n",
    "        if out == Y[i]:\n",
    "            acc += 1\n",
    "    print('acc após treinamento:', acc)\n",
    "\n",
    "    # Versão Keras\n",
    "    model = Sequential()\n",
    "    model.add(Dense(8, input_dim=2, activation='relu'))\n",
    "    model.add(Dense(8, activation='relu'))\n",
    "    model.add(Dense(1, activation='sigmoid'))\n",
    "\n",
    "    opt = SGD(learning_rate=taxa)\n",
    "    model.compile(loss='binary_crossentropy', optimizer=opt, metrics=['accuracy'])\n",
    "    model.fit(X, Y, epochs=200, verbose=False, batch_size=5)\n",
    "\n",
    "    acc = model.evaluate(X, Y)\n",
    "    print(\"Acurácia final (Keras):\", acc)\n",
    "\n",
    "\n",
    "main()"
   ]
  }
 ],
 "metadata": {
  "kernelspec": {
   "display_name": "Python 3",
   "language": "python",
   "name": "python3"
  },
  "language_info": {
   "codemirror_mode": {
    "name": "ipython",
    "version": 3
   },
   "file_extension": ".py",
   "mimetype": "text/x-python",
   "name": "python",
   "nbconvert_exporter": "python",
   "pygments_lexer": "ipython3",
   "version": "3.9.6"
  }
 },
 "nbformat": 4,
 "nbformat_minor": 5
}
