{
 "cells": [
  {
   "cell_type": "code",
   "execution_count": 8,
   "id": "b88c51b9",
   "metadata": {},
   "outputs": [],
   "source": [
    "from sklearn import datasets\n",
    "import numpy as np\n",
    "import matplotlib.pyplot as plt\n",
    "from keras.models import Sequential\n",
    "from keras.layers import Dense\n",
    "from keras.optimizers import SGD\n",
    "from keras import Input"
   ]
  },
  {
   "cell_type": "code",
   "execution_count": 9,
   "id": "7b236858",
   "metadata": {},
   "outputs": [
    {
     "data": {
      "image/png": "[encoded data removed]",
      "text/plain": [
       "<Figure size 640x480 with 1 Axes>"
      ]
     },
     "metadata": {},
     "output_type": "display_data"
    }
   ],
   "source": [
    "X, Y = datasets.make_circles(100, noise=0.1, factor=0.5)\n",
    "\n",
    "color = ['blue' if k == 0 else 'red' for k in Y]\n",
    "plt.scatter(X[:, 0], X[:, 1], c=color)\n",
    "plt.savefig('circulos.svg')"
   ]
  },
  {
   "cell_type": "code",
   "execution_count": 10,
   "id": "944d8af6",
   "metadata": {},
   "outputs": [],
   "source": [
    "from sklearn.model_selection import train_test_split\n",
    "from sklearn.preprocessing import StandardScaler\n",
    "\n",
    "# Normalização (padronização)\n",
    "scaler = StandardScaler()\n",
    "X_scaled = scaler.fit_transform(X)\n",
    "\n",
    "# Divisão em treino e teste\n",
    "X_train, X_test, Y_train, Y_test = train_test_split(X_scaled, Y, test_size=0.2, random_state=42)"
   ]
  },
  {
   "cell_type": "code",
   "execution_count": 11,
   "id": "293ee857",
   "metadata": {},
   "outputs": [],
   "source": [
    "def sigmoid(x):\n",
    "    return 1 / (1 + np.exp(-x))\n",
    "\n",
    "def tanh(x):\n",
    "    return np.tanh(x)"
   ]
  },
  {
   "cell_type": "code",
   "execution_count": 12,
   "id": "5617e18e",
   "metadata": {},
   "outputs": [],
   "source": [
    "def run_neural_net(x, w0, b0, b1, w1):\n",
    "    # camada escondida com 4 neurônios (tanh)\n",
    "    v0 = np.dot(x, w0.T) + b0\n",
    "    y0 = tanh(v0)\n",
    "\n",
    "    # camada de saída (sigmoide)\n",
    "    v1 = np.dot(y0, w1) + b1\n",
    "    y1 = sigmoid(v1)\n",
    "\n",
    "    return 1 if y1 > 0.5 else 0\n"
   ]
  },
  {
   "cell_type": "code",
   "execution_count": 13,
   "id": "182d4da6",
   "metadata": {},
   "outputs": [],
   "source": [
    "def neural_net(x, d, w0, b0, b1, w1):\n",
    "    # forward\n",
    "    v0 = np.dot(x, w0.T) + b0\n",
    "    y0 = tanh(v0)\n",
    "\n",
    "    v1 = np.dot(y0, w1) + b1\n",
    "    y1 = sigmoid(v1)\n",
    "\n",
    "    e = y1 - d\n",
    "    L = 1/2 * (e ** 2)  # MSE\n",
    "\n",
    "    # # Cross-entropy\n",
    "    # eps = 1e-8  # para evitar log(0)\n",
    "    # L = - (d * np.log(y1 + eps) + (1 - d) * np.log(1 - y1 + eps))\n",
    "\n",
    "    # backward\n",
    "    grad_w0 = np.zeros(w0.shape)\n",
    "    grad_w1 = np.zeros(w1.shape)\n",
    "    grad_b0 = np.zeros(b0.shape)\n",
    "    grad_b1 = np.zeros(b1.shape)\n",
    "\n",
    "    # derivadas\n",
    "    grad_y1 = e\n",
    "    grad_v1 = grad_y1 * y1 * (1 - y1)\n",
    "\n",
    "    # Se usar cross-entropy + sigmoid, grad_v1 = y1 - d\n",
    "    # grad_v1 = y1 - d\n",
    "\n",
    "    grad_w1 = grad_v1 * y0\n",
    "    grad_b1 = grad_v1\n",
    "\n",
    "    grad_y0 = grad_v1 * w1\n",
    "    grad_v0 = grad_y0 * (1 - np.tanh(v0) ** 2)  # derivada tanh\n",
    "\n",
    "    grad_w0 = np.outer(grad_v0, x)\n",
    "    grad_b0 = grad_v0\n",
    "\n",
    "    return grad_w0, grad_b0, grad_w1, grad_b1, L"
   ]
  },
  {
   "cell_type": "code",
   "execution_count": null,
   "id": "0684e86c",
   "metadata": {},
   "outputs": [
    {
     "name": "stdout",
     "output_type": "stream",
     "text": [
      "47 acurácia antes do treinamento (treino)\n",
      "0 [10.9664565]\n",
      "1000 [0.35453448]\n",
      "2000 [0.22903557]\n",
      "3000 [0.1730541]\n",
      "4000 [0.13777718]\n",
      "acc após treinamento (treino): 80\n",
      "acc no teste (rede manual): 13 / 20\n"
     ]
    },
    {
     "name": "stderr",
     "output_type": "stream",
     "text": [
      "/Users/larissaiuki/Library/Python/3.9/lib/python/site-packages/keras/src/layers/core/dense.py:93: UserWarning: Do not pass an `input_shape`/`input_dim` argument to a layer. When using Sequential models, prefer using an `Input(shape)` object as the first layer in the model instead.\n",
      "  super().__init__(activity_regularizer=activity_regularizer, **kwargs)\n"
     ]
    },
    {
     "name": "stdout",
     "output_type": "stream",
     "text": [
      "Acurácia final (Keras) treino: [0.005098950117826462, 1.0]\n",
      "Acurácia final (Keras) teste: [0.4953939914703369, 0.800000011920929]\n"
     ]
    }
   ],
   "source": [
    "def main():\n",
    "    # 1. Inicialização dos parâmetros da rede manual\n",
    "    np.random.seed(42)\n",
    "    w0 = np.random.rand(4, 2)  # Pesos da camada escondida (4 neurônios, 2 entradas)\n",
    "    w1 = np.random.rand(4)     # Pesos da camada de saída\n",
    "    b0 = np.random.rand(4)     # Bias da camada escondida\n",
    "    b1 = np.random.rand(1)     # Bias da saída\n",
    "\n",
    "    taxa = 0.05  # Taxa de aprendizado\n",
    "\n",
    "    print('--- Rede Neural Manual ---')\n",
    "    # 2. Avaliação inicial (antes do treinamento)\n",
    "    acc = 0\n",
    "    for i in range(len(X_train)):\n",
    "        out = run_neural_net(X_train[i], w0, b0, b1, w1)\n",
    "        if out == Y_train[i]:\n",
    "            acc += 1\n",
    "    print(f'Acurácia inicial (treino): {acc}/{len(X_train)}')\n",
    "\n",
    "    # 3. Treinamento (gradiente descendente)\n",
    "    for i in range(5000):\n",
    "        loss = 0\n",
    "        grad_w0 = np.zeros(w0.shape)\n",
    "        grad_w1 = np.zeros(w1.shape)\n",
    "        grad_b0 = np.zeros(b0.shape)\n",
    "        grad_b1 = np.zeros(b1.shape)\n",
    "\n",
    "        for k in range(len(X_train)):\n",
    "            g_w0, g_b0, g_w1, g_b1, L = neural_net(X_train[k], Y_train[k], w0, b0, b1, w1)\n",
    "            grad_w0 += g_w0\n",
    "            grad_w1 += g_w1\n",
    "            grad_b0 += g_b0\n",
    "            grad_b1 += g_b1\n",
    "            loss += L\n",
    "\n",
    "        w0 -= taxa * grad_w0\n",
    "        w1 -= taxa * grad_w1\n",
    "        b0 -= taxa * grad_b0\n",
    "        b1 -= taxa * grad_b1\n",
    "\n",
    "        if i % 1000 == 0:\n",
    "            print(f'Iteração {i}, Loss: {loss:.4f}')\n",
    "\n",
    "    # 4. Avaliação após treinamento (treino)\n",
    "    acc = 0\n",
    "    for i in range(len(X_train)):\n",
    "        out = run_neural_net(X_train[i], w0, b0, b1, w1)\n",
    "        if out == Y_train[i]:\n",
    "            acc += 1\n",
    "    print(f'Acurácia após treinamento (treino): {acc}/{len(X_train)}')\n",
    "\n",
    "    # 5. Avaliação no conjunto de teste (rede manual)\n",
    "    acc_test = 0\n",
    "    for i in range(len(X_test)):\n",
    "        out = run_neural_net(X_test[i], w0, b0, b1, w1)\n",
    "        if out == Y_test[i]:\n",
    "            acc_test += 1\n",
    "    print(f'Acurácia no teste (rede manual): {acc_test}/{len(X_test)}')\n",
    "\n",
    "    print('\\n--- Rede Neural com Keras ---')\n",
    "    # 6. Construção do modelo Keras\n",
    "    model = Sequential()\n",
    "    model.add(Dense(8, input_dim=2, activation='relu'))\n",
    "    model.add(Dense(8, activation='relu'))\n",
    "    model.add(Dense(1, activation='sigmoid'))\n",
    "\n",
    "    opt = SGD(learning_rate=taxa)\n",
    "    model.compile(loss='binary_crossentropy', optimizer=opt, metrics=['accuracy'])\n",
    "\n",
    "    # 7. Treinamento do modelo Keras\n",
    "    model.fit(X_train, Y_train, epochs=200, verbose=False, batch_size=5)\n",
    "\n",
    "    # 8. Avaliação do modelo Keras\n",
    "    acc_train = model.evaluate(X_train, Y_train, verbose=0)\n",
    "    acc_test = model.evaluate(X_test, Y_test, verbose=0)\n",
    "    print(f'Acurácia final (Keras) treino: {acc_train}')\n",
    "    print(f'Acurácia final (Keras) teste: {acc_test}')\n",
    "\n",
    "main()"
   ]
  }
 ],
 "metadata": {
  "kernelspec": {
   "display_name": "Python 3",
   "language": "python",
   "name": "python3"
  },
  "language_info": {
   "codemirror_mode": {
    "name": "ipython",
    "version": 3
   },
   "file_extension": ".py",
   "mimetype": "text/x-python",
   "name": "python",
   "nbconvert_exporter": "python",
   "pygments_lexer": "ipython3",
   "version": "3.9.6"
  }
 },
 "nbformat": 4,
 "nbformat_minor": 5
}
