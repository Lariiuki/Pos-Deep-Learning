{
  "nbformat": 4,
  "nbformat_minor": 0,
  "metadata": {
    "colab": {
      "provenance": [],
      "authorship_tag": "ABX9TyOka1z//P/QclMWCt6Iw1SZ",
      "include_colab_link": true
    },
    "kernelspec": {
      "name": "python3",
      "display_name": "Python 3"
    },
    "language_info": {
      "name": "python"
    }
  },
  "cells": [
    {
      "cell_type": "markdown",
      "metadata": {
        "id": "view-in-github",
        "colab_type": "text"
      },
      "source": [
        "<a href=\"https://colab.research.google.com/github/Lariiuki/Pos-Deep-Learning/blob/main/NoProp.ipynb\" target=\"_parent\"><img src=\"https://colab.research.google.com/assets/colab-badge.svg\" alt=\"Open In Colab\"/></a>"
      ]
    },
    {
      "cell_type": "markdown",
      "source": [
        "# Teste 'NoProp'"
      ],
      "metadata": {
        "id": "z2rIJ1fZhd-l"
      }
    },
    {
      "cell_type": "code",
      "source": [
        "#!pip install torch torchvision matplotlib"
      ],
      "metadata": {
        "id": "tv40p1jMedvS"
      },
      "execution_count": 18,
      "outputs": []
    },
    {
      "cell_type": "code",
      "source": [
        "import math\n",
        "import torch\n",
        "import torch.nn as nn\n",
        "import torch.nn.functional as F\n",
        "import torchvision\n",
        "import torchvision.transforms as transforms\n",
        "from torch.utils.data import DataLoader\n",
        "import matplotlib.pyplot as plt"
      ],
      "metadata": {
        "id": "LDJoeKT0e5ms"
      },
      "execution_count": 19,
      "outputs": []
    },
    {
      "cell_type": "code",
      "source": [
        "import kagglehub\n",
        "\n",
        "# Download latest version\n",
        "path = kagglehub.dataset_download(\"leonardoreboucas/imagens-de-animais-para-classificao\")\n",
        "\n",
        "print(\"Path to dataset files:\", path)"
      ],
      "metadata": {
        "colab": {
          "base_uri": "https://localhost:8080/"
        },
        "id": "i5cDgtgEgeWn",
        "outputId": "a9a6e089-422c-466d-8a76-0b23c73aa530"
      },
      "execution_count": 20,
      "outputs": [
        {
          "output_type": "stream",
          "name": "stdout",
          "text": [
            "Path to dataset files: /kaggle/input/imagens-de-animais-para-classificao\n"
          ]
        }
      ]
    },
    {
      "cell_type": "code",
      "source": [
        "import os\n",
        "\n",
        "print(os.listdir(path))"
      ],
      "metadata": {
        "colab": {
          "base_uri": "https://localhost:8080/"
        },
        "id": "2xxExXcEghj3",
        "outputId": "e2956daf-280f-44e4-e857-f1a6ccb6c5c8"
      },
      "execution_count": 21,
      "outputs": [
        {
          "output_type": "stream",
          "name": "stdout",
          "text": [
            "['Dataset']\n"
          ]
        }
      ]
    },
    {
      "cell_type": "code",
      "source": [
        "for root, dirs, files in os.walk(path):\n",
        "    print(\"Pasta:\", root)\n",
        "    print(\"Arquivos:\", len(files))"
      ],
      "metadata": {
        "colab": {
          "base_uri": "https://localhost:8080/"
        },
        "id": "gzRaJsp61Vnl",
        "outputId": "31d7ef7f-eb3d-4ca8-f4a1-3a66bda8f8dd"
      },
      "execution_count": 22,
      "outputs": [
        {
          "output_type": "stream",
          "name": "stdout",
          "text": [
            "Pasta: /kaggle/input/imagens-de-animais-para-classificao\n",
            "Arquivos: 0\n",
            "Pasta: /kaggle/input/imagens-de-animais-para-classificao/Dataset\n",
            "Arquivos: 0\n",
            "Pasta: /kaggle/input/imagens-de-animais-para-classificao/Dataset/passaros\n",
            "Arquivos: 300\n",
            "Pasta: /kaggle/input/imagens-de-animais-para-classificao/Dataset/gatos\n",
            "Arquivos: 300\n",
            "Pasta: /kaggle/input/imagens-de-animais-para-classificao/Dataset/peixes\n",
            "Arquivos: 300\n",
            "Pasta: /kaggle/input/imagens-de-animais-para-classificao/Dataset/elefante\n",
            "Arquivos: 300\n",
            "Pasta: /kaggle/input/imagens-de-animais-para-classificao/Dataset/borboleta\n",
            "Arquivos: 300\n",
            "Pasta: /kaggle/input/imagens-de-animais-para-classificao/Dataset/aranha\n",
            "Arquivos: 300\n",
            "Pasta: /kaggle/input/imagens-de-animais-para-classificao/Dataset/cachorros\n",
            "Arquivos: 300\n",
            "Pasta: /kaggle/input/imagens-de-animais-para-classificao/Dataset/galinha\n",
            "Arquivos: 300\n",
            "Pasta: /kaggle/input/imagens-de-animais-para-classificao/Dataset/carneiro\n",
            "Arquivos: 300\n",
            "Pasta: /kaggle/input/imagens-de-animais-para-classificao/Dataset/bovino\n",
            "Arquivos: 300\n",
            "Pasta: /kaggle/input/imagens-de-animais-para-classificao/Dataset/esquilo\n",
            "Arquivos: 300\n",
            "Pasta: /kaggle/input/imagens-de-animais-para-classificao/Dataset/cavalo\n",
            "Arquivos: 300\n"
          ]
        }
      ]
    },
    {
      "cell_type": "code",
      "source": [
        "import torch\n",
        "\n",
        "if torch.backends.mps.is_available():\n",
        "    device = \"mps\"\n",
        "elif torch.cuda.is_available():\n",
        "    device = \"cuda\"\n",
        "else:\n",
        "    device = \"cpu\"\n",
        "\n",
        "print(\"Using device:\", device)"
      ],
      "metadata": {
        "colab": {
          "base_uri": "https://localhost:8080/"
        },
        "id": "2T1HoK91OTJz",
        "outputId": "1364e547-2a96-41ab-bb4e-057742163b65"
      },
      "execution_count": 23,
      "outputs": [
        {
          "output_type": "stream",
          "name": "stdout",
          "text": [
            "Using device: cpu\n"
          ]
        }
      ]
    },
    {
      "cell_type": "code",
      "source": [
        "# Denoising block\n",
        "import torch.nn as nn\n",
        "import torch.nn.functional as F\n",
        "\n",
        "# limpeza do ruído na base\n",
        "# Pega a imagem (x) e extrai características com convoluções (CNN).\n",
        "# Pega o embedding ruidoso (z_prev) e passa por fully connected layers.\n",
        "# Combina x_feat e z_feat e gera uma previsão (logits e z_next).\n",
        "class DenoiseBlock(nn.Module):\n",
        "    def __init__(self, embedding_dim, num_classes):\n",
        "        super().__init__()\n",
        "        # Image path\n",
        "        self.conv_path = nn.Sequential(\n",
        "            nn.Conv2d(3, 32, 3, padding=1),\n",
        "            nn.ReLU(),\n",
        "            nn.MaxPool2d(2),\n",
        "            nn.Dropout(0.2),\n",
        "            nn.Conv2d(32, 64, 3, padding=1),\n",
        "            nn.ReLU(),\n",
        "            nn.Dropout(0.2),\n",
        "            nn.Conv2d(64, 128, 3, padding=1),\n",
        "            nn.ReLU(),\n",
        "            nn.MaxPool2d(2),\n",
        "            nn.Dropout(0.2),\n",
        "            nn.AdaptiveAvgPool2d((1, 1)),\n",
        "            nn.Flatten(),\n",
        "            nn.Linear(128, 256),\n",
        "            nn.BatchNorm1d(256)\n",
        "        )\n",
        "\n",
        "        # Noisy embedding path\n",
        "        self.fc_z1 = nn.Linear(embedding_dim, 256)\n",
        "        self.bn_z1 = nn.BatchNorm1d(256)\n",
        "\n",
        "        self.fc_z2 = nn.Linear(256, 256)\n",
        "        self.bn_z2 = nn.BatchNorm1d(256)\n",
        "\n",
        "        self.fc_z3 = nn.Linear(256, 256)\n",
        "        self.bn_z3 = nn.BatchNorm1d(256)\n",
        "\n",
        "        # Combined downstream path\n",
        "        self.fc_f1 = nn.Linear(256 + 256, 256)\n",
        "        self.bn_f1 = nn.BatchNorm1d(256)\n",
        "        self.fc_f2 = nn.Linear(256, 128)\n",
        "        self.bn_f2 = nn.BatchNorm1d(128)\n",
        "        self.fc_out = nn.Linear(128, num_classes)\n",
        "\n",
        "    def forward(self, x, z_prev, W_embed):\n",
        "        # Image features\n",
        "        x_feat = self.conv_path(x)\n",
        "\n",
        "        # Features from noisy embedding\n",
        "        h1 = F.relu(self.bn_z1(self.fc_z1(z_prev)))\n",
        "        h2 = F.relu(self.bn_z2(self.fc_z2(h1)))\n",
        "        h3 = self.bn_z3(self.fc_z3(h2))\n",
        "\n",
        "        z_feat = h3 + h1 # Residual connection\n",
        "\n",
        "        # Combine and predict logits\n",
        "        h_f = torch.cat([x_feat, z_feat], dim=1)\n",
        "        h_f = F.relu(self.bn_f1(self.fc_f1(h_f)))\n",
        "        h_f = F.relu(self.bn_f2(self.fc_f2(h_f)))\n",
        "        logits = self.fc_out(h_f)\n",
        "\n",
        "        # Softmax on logits\n",
        "        p = F.softmax(logits, dim=1)\n",
        "        z_next = p @ W_embed\n",
        "\n",
        "        return z_next, logits"
      ],
      "metadata": {
        "id": "azQj-wTnPDc2"
      },
      "execution_count": 24,
      "outputs": []
    },
    {
      "cell_type": "code",
      "source": [
        "import torch.nn as nn\n",
        "import torch.nn.functional as F\n",
        "import torch\n",
        "import math\n",
        "\n",
        "class NoPropDT(nn.Module):\n",
        "    def __init__(self, num_classes, embedding_dim, T, eta):\n",
        "        super().__init__()\n",
        "        self.num_classes = num_classes\n",
        "        self.embedding_dim = embedding_dim\n",
        "        self.T = T\n",
        "        self.eta = eta\n",
        "\n",
        "        # Stacking up the Denoise blocks\n",
        "        self.blocks = nn.ModuleList([\n",
        "            DenoiseBlock(embedding_dim, num_classes) for _ in range(T)\n",
        "        ])\n",
        "\n",
        "        # Class-embedding matrix (W_embed)\n",
        "        self.W_embed = nn.Parameter(torch.randn(num_classes, embedding_dim) * 0.1)\n",
        "\n",
        "        # Classification head\n",
        "        self.classifier = nn.Linear(embedding_dim, num_classes)\n",
        "\n",
        "        # Cosine noise schedule\n",
        "        t = torch.arange(1, T+1, dtype=torch.float32)\n",
        "        alpha_t = torch.cos(t / T * (math.pi/2))**2\n",
        "        alpha_bar = torch.cumprod(alpha_t, dim=0)\n",
        "        snr = alpha_bar / (1 - alpha_bar)\n",
        "        snr_prev = torch.cat([torch.tensor([0.], dtype=snr.dtype), snr[:-1]], dim=0)\n",
        "        snr_diff = snr - snr_prev\n",
        "\n",
        "        self.register_buffer('alpha_bar', alpha_bar)\n",
        "        self.register_buffer('snr_diff', snr_diff)\n",
        "\n",
        "    def forward_denoise(self, x, z_prev, t):\n",
        "        return self.blocks[t](x, z_prev, self.W_embed)[0]\n",
        "\n",
        "    def classify(self, z):\n",
        "        return self.classifier(z)\n",
        "\n",
        "    def inference(self, x):\n",
        "        B = x.size(0)\n",
        "        z = torch.randn(B, self.embedding_dim, device=x.device)\n",
        "\n",
        "        for t in range(self.T):\n",
        "            z = self.forward_denoise(x, z, t)\n",
        "\n",
        "        return self.classify(z)"
      ],
      "metadata": {
        "id": "nLD3y7NwPmw7"
      },
      "execution_count": 25,
      "outputs": []
    },
    {
      "cell_type": "code",
      "source": [
        "# Function for training NoProp-DT\n",
        "\n",
        "def train_nopropdt(model, train_loader, test_loader, epochs, lr, weight_decay):\n",
        "    # Using AdamW optimizer\n",
        "    optimizer = torch.optim.AdamW(model.parameters(), lr=lr, weight_decay=weight_decay)\n",
        "    scheduler = torch.optim.lr_scheduler.ReduceLROnPlateau(\n",
        "    optimizer, mode='max', factor=0.5, patience=5\n",
        "    )\n",
        "\n",
        "    # Dict to store metrics\n",
        "    history = {'train_acc': [], 'val_acc': []}\n",
        "\n",
        "    for epoch in range(1, epochs + 1):\n",
        "        model.train()\n",
        "\n",
        "        for t in range(model.T):\n",
        "            for x, y in train_loader:\n",
        "                x, y = x.to(device), y.to(device)\n",
        "                uy = model.W_embed[y]\n",
        "                alpha_bar_t = model.alpha_bar[t]\n",
        "                noise = torch.randn_like(uy)\n",
        "                z_t = torch.sqrt(alpha_bar_t) * uy + torch.sqrt(1 - alpha_bar_t) * noise\n",
        "\n",
        "                z_pred, _ = model.blocks[t](x, z_t, model.W_embed)\n",
        "                loss_l2 = F.mse_loss(z_pred, uy)\n",
        "                loss = 0.5 * model.eta * model.snr_diff[t] * loss_l2\n",
        "\n",
        "                if t == model.T - 1:\n",
        "                    logits = model.classifier(z_pred)\n",
        "                    loss_ce = F.cross_entropy(logits, y)\n",
        "                    loss_kl = 0.5 * uy.pow(2).sum(dim=1).mean()\n",
        "                    loss = loss + loss_ce + loss_kl\n",
        "\n",
        "                optimizer.zero_grad()\n",
        "                loss.backward()\n",
        "                torch.nn.utils.clip_grad_norm_(model.parameters(), 1.0)\n",
        "                optimizer.step()\n",
        "\n",
        "        # Training accuracy\n",
        "        model.eval()\n",
        "        correct, total = 0, 0\n",
        "        with torch.no_grad():\n",
        "            for x, y in train_loader:\n",
        "                x, y = x.to(device), y.to(device)\n",
        "                preds = model.inference(x).argmax(dim=1)\n",
        "                correct += (preds == y).sum().item()\n",
        "                total += y.size(0)\n",
        "\n",
        "        train_acc = correct / total\n",
        "\n",
        "        # Validation accuracy\n",
        "        val_correct, val_total = 0, 0\n",
        "        with torch.no_grad():\n",
        "            for x, y in test_loader:\n",
        "                x, y = x.to(device), y.to(device)\n",
        "                preds = model.inference(x).argmax(dim=1)\n",
        "                val_correct += (preds == y).sum().item()\n",
        "                val_total += y.size(0)\n",
        "\n",
        "        val_acc = val_correct / val_total\n",
        "        scheduler.step(val_acc) # Moved after val_acc calculation\n",
        "\n",
        "        # Storing accuracy history\n",
        "        history['train_acc'].append(train_acc)\n",
        "        history['val_acc'].append(val_acc)\n",
        "\n",
        "        print(f\"Epoch {epoch}/{epochs}  \"\n",
        "              f\"TrainAcc={100 * train_acc:.2f}%  ValAcc={100 * val_acc:.2f}%\")\n",
        "\n",
        "    # Plotting Training and Validation accuracy\n",
        "    plt.figure()\n",
        "    plt.plot(range(1, epochs + 1), history['train_acc'], label='Train Accuracy')\n",
        "    plt.plot(range(1, epochs + 1), history['val_acc'], label='Validation Accuracy')\n",
        "    plt.title(\"Accuracy Curve\")\n",
        "    plt.xlabel(\"Epoch\")\n",
        "    plt.ylabel(\"Accuracy\")\n",
        "    plt.legend()\n",
        "    plt.grid(True)\n",
        "    plt.show()\n",
        "\n",
        "    print(f\"\\n Final Test Accuracy: {100 * val_acc:.2f}%\")"
      ],
      "metadata": {
        "id": "pA9UZWb0PsJ3"
      },
      "execution_count": 26,
      "outputs": []
    },
    {
      "cell_type": "code",
      "source": [
        "# Hyperparameters\n",
        "\n",
        "T = 3                # menos blocos de denoising\n",
        "eta = 0.05           # suaviza a loss\n",
        "embedding_dim = 128  # embedding menor\n",
        "batch_size = 16      # lotes pequenos (dataset pequeno)\n",
        "lr = 1e-4            # taxa de aprendizado menor (para não explodir)\n",
        "epochs = 40          # mais épocas, porque são poucas imagens\n",
        "weight_decay = 1e-4  # regularização mais leve"
      ],
      "metadata": {
        "id": "SxHJ91vDfD7K"
      },
      "execution_count": 27,
      "outputs": []
    },
    {
      "cell_type": "code",
      "source": [
        "from torchvision import datasets, transforms\n",
        "from torch.utils.data import DataLoader\n",
        "\n",
        "# Transformações (redimensionar e converter em tensor)\n",
        "transform = transforms.Compose([\n",
        "    transforms.Resize((28,28)),\n",
        "    transforms.RandomRotation(10),\n",
        "    transforms.RandomHorizontalFlip(),\n",
        "    transforms.ToTensor()\n",
        "])\n",
        "\n",
        "# Carregar dataset (aponta para a pasta Dataset)\n",
        "train_set = datasets.ImageFolder(\n",
        "    root=\"/root/.cache/kagglehub/datasets/leonardoreboucas/imagens-de-animais-para-classificao/versions/1/Dataset\",\n",
        "    transform=transform\n",
        ")\n",
        "\n",
        "# DataLoader (permite treinar em lotes)\n",
        "train_loader = DataLoader(train_set, batch_size=32, shuffle=True)\n",
        "print(\"Classes:\", train_set.classes)\n",
        "print(\"Número total de imagens no dataset:\", len(train_set))\n",
        "print(\"Classes encontradas:\", train_set.classes)\n",
        "print(\"Número de imagens por classe:\")\n",
        "for i, cls in enumerate(train_set.classes):\n",
        "    count = sum([1 for label in train_set.targets if label == i])\n",
        "    print(f\"{cls}: {count}\")"
      ],
      "metadata": {
        "colab": {
          "base_uri": "https://localhost:8080/"
        },
        "id": "CfxGTt5HQOcS",
        "outputId": "e8249de5-4de9-46b9-9b50-1f1901b1242a"
      },
      "execution_count": 28,
      "outputs": [
        {
          "output_type": "stream",
          "name": "stdout",
          "text": [
            "Classes: ['aranha', 'borboleta', 'bovino', 'cachorros', 'carneiro', 'cavalo', 'elefante', 'esquilo', 'galinha', 'gatos', 'passaros', 'peixes']\n",
            "Número total de imagens no dataset: 3600\n",
            "Classes encontradas: ['aranha', 'borboleta', 'bovino', 'cachorros', 'carneiro', 'cavalo', 'elefante', 'esquilo', 'galinha', 'gatos', 'passaros', 'peixes']\n",
            "Número de imagens por classe:\n",
            "aranha: 300\n",
            "borboleta: 300\n",
            "bovino: 300\n",
            "cachorros: 300\n",
            "carneiro: 300\n",
            "cavalo: 300\n",
            "elefante: 300\n",
            "esquilo: 300\n",
            "galinha: 300\n",
            "gatos: 300\n",
            "passaros: 300\n",
            "peixes: 300\n"
          ]
        }
      ]
    },
    {
      "cell_type": "code",
      "source": [
        "num_classes = len(train_set.classes)\n",
        "num_classes"
      ],
      "metadata": {
        "colab": {
          "base_uri": "https://localhost:8080/"
        },
        "id": "Pl842Ogn632P",
        "outputId": "46ecd599-5fd7-47e5-c084-42afb78d63a7"
      },
      "execution_count": 29,
      "outputs": [
        {
          "output_type": "execute_result",
          "data": {
            "text/plain": [
              "12"
            ]
          },
          "metadata": {},
          "execution_count": 29
        }
      ]
    },
    {
      "cell_type": "code",
      "source": [
        "from torch.utils.data import random_split\n",
        "\n",
        "# Tamanho do dataset\n",
        "dataset_size = len(train_set)\n",
        "train_size = int(0.8 * dataset_size)\n",
        "test_size = dataset_size - train_size\n",
        "\n",
        "# Divisão\n",
        "train_subset, test_subset = random_split(train_set, [train_size, test_size])\n",
        "\n",
        "# DataLoaders\n",
        "train_loader = DataLoader(train_subset, batch_size=batch_size, shuffle=True)\n",
        "test_loader  = DataLoader(test_subset,  batch_size=batch_size, shuffle=False)"
      ],
      "metadata": {
        "id": "TwcWNaoB7U1D"
      },
      "execution_count": 30,
      "outputs": []
    },
    {
      "cell_type": "code",
      "source": [
        "model = NoPropDT(num_classes=num_classes,\n",
        "                 embedding_dim=512,\n",
        "                 T=10,\n",
        "                 eta=0.1).to(device)"
      ],
      "metadata": {
        "id": "tDcPp8KJhfWb"
      },
      "execution_count": 31,
      "outputs": []
    },
    {
      "cell_type": "code",
      "source": [
        "train_nopropdt(model, train_loader, test_loader, epochs=epochs, lr=lr, weight_decay=weight_decay)"
      ],
      "metadata": {
        "colab": {
          "base_uri": "https://localhost:8080/",
          "height": 1000
        },
        "id": "UbTDUKbjhoYK",
        "outputId": "29421336-29c2-498e-cbca-88b65764efaa"
      },
      "execution_count": 32,
      "outputs": [
        {
          "output_type": "stream",
          "name": "stdout",
          "text": [
            "Epoch 1/40  TrainAcc=11.25%  ValAcc=10.83%\n",
            "Epoch 2/40  TrainAcc=10.66%  ValAcc=9.86%\n",
            "Epoch 3/40  TrainAcc=9.38%  ValAcc=9.72%\n",
            "Epoch 4/40  TrainAcc=12.33%  ValAcc=12.64%\n",
            "Epoch 5/40  TrainAcc=10.03%  ValAcc=11.67%\n",
            "Epoch 6/40  TrainAcc=14.65%  ValAcc=16.11%\n",
            "Epoch 7/40  TrainAcc=16.39%  ValAcc=16.67%\n",
            "Epoch 8/40  TrainAcc=14.97%  ValAcc=15.14%\n",
            "Epoch 9/40  TrainAcc=17.88%  ValAcc=17.64%\n",
            "Epoch 10/40  TrainAcc=14.93%  ValAcc=16.11%\n",
            "Epoch 11/40  TrainAcc=15.83%  ValAcc=16.67%\n",
            "Epoch 12/40  TrainAcc=18.16%  ValAcc=18.19%\n",
            "Epoch 13/40  TrainAcc=21.04%  ValAcc=21.39%\n",
            "Epoch 14/40  TrainAcc=21.01%  ValAcc=19.86%\n",
            "Epoch 15/40  TrainAcc=20.69%  ValAcc=20.00%\n",
            "Epoch 16/40  TrainAcc=22.08%  ValAcc=22.92%\n",
            "Epoch 17/40  TrainAcc=19.93%  ValAcc=19.72%\n",
            "Epoch 18/40  TrainAcc=23.61%  ValAcc=24.44%\n",
            "Epoch 19/40  TrainAcc=23.89%  ValAcc=25.14%\n",
            "Epoch 20/40  TrainAcc=22.57%  ValAcc=22.36%\n",
            "Epoch 21/40  TrainAcc=24.31%  ValAcc=23.33%\n",
            "Epoch 22/40  TrainAcc=24.13%  ValAcc=22.64%\n",
            "Epoch 23/40  TrainAcc=24.41%  ValAcc=24.17%\n",
            "Epoch 24/40  TrainAcc=23.92%  ValAcc=24.03%\n",
            "Epoch 25/40  TrainAcc=25.03%  ValAcc=24.44%\n",
            "Epoch 26/40  TrainAcc=25.52%  ValAcc=24.31%\n",
            "Epoch 27/40  TrainAcc=25.42%  ValAcc=23.19%\n",
            "Epoch 28/40  TrainAcc=25.59%  ValAcc=24.17%\n",
            "Epoch 29/40  TrainAcc=24.55%  ValAcc=23.61%\n",
            "Epoch 30/40  TrainAcc=24.90%  ValAcc=24.03%\n",
            "Epoch 31/40  TrainAcc=25.24%  ValAcc=24.58%\n",
            "Epoch 32/40  TrainAcc=25.00%  ValAcc=23.75%\n",
            "Epoch 33/40  TrainAcc=25.07%  ValAcc=24.31%\n",
            "Epoch 34/40  TrainAcc=24.69%  ValAcc=23.47%\n",
            "Epoch 35/40  TrainAcc=24.58%  ValAcc=23.47%\n",
            "Epoch 36/40  TrainAcc=24.90%  ValAcc=24.17%\n",
            "Epoch 37/40  TrainAcc=25.42%  ValAcc=25.00%\n",
            "Epoch 38/40  TrainAcc=24.90%  ValAcc=24.72%\n",
            "Epoch 39/40  TrainAcc=24.44%  ValAcc=24.03%\n",
            "Epoch 40/40  TrainAcc=25.45%  ValAcc=23.75%\n"
          ]
        },
        {
          "output_type": "display_data",
          "data": {
            "text/plain": [
              "<Figure size 640x480 with 1 Axes>"
            ],
            "image/png": "[encoded data removed]"
          },
          "metadata": {}
        },
        {
          "output_type": "stream",
          "name": "stdout",
          "text": [
            "\n",
            " Final Test Accuracy: 23.75%\n"
          ]
        }
      ]
    }
  ]
}